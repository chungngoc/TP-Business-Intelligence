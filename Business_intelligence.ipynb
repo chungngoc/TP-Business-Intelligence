{
  "nbformat": 4,
  "nbformat_minor": 0,
  "metadata": {
    "colab": {
      "name": "Business_intelligence.ipynb",
      "provenance": [],
      "collapsed_sections": [],
      "include_colab_link": true
    },
    "kernelspec": {
      "name": "python3",
      "display_name": "Python 3"
    },
    "language_info": {
      "name": "python"
    }
  },
  "cells": [
    {
      "cell_type": "markdown",
      "metadata": {
        "id": "view-in-github",
        "colab_type": "text"
      },
      "source": [
        "<a href=\"https://colab.research.google.com/github/chungngoc/TP-Business-Intelligence/blob/main/Business_intelligence.ipynb\" target=\"_parent\"><img src=\"https://colab.research.google.com/assets/colab-badge.svg\" alt=\"Open In Colab\"/></a>"
      ]
    },
    {
      "cell_type": "code",
      "source": [
        "import numpy as np\n",
        "import pandas as pd\n",
        "import datetime as dt\n",
        "\n",
        "# column_names = [\"InvoiceNo\",\"StockCode\", \"Description\", \"Quantity\", \"InvoiceDate\", \"UnitPrice\", \"CustomerID\", \"Country\"]\n",
        "\n",
        "df = pd.read_csv('/content/data.csv')\n",
        "\n",
        "print(df)"
      ],
      "metadata": {
        "id": "uFK1jJvhv3-k",
        "colab": {
          "base_uri": "https://localhost:8080/"
        },
        "outputId": "7ac5eaf2-8d67-4ac7-8c06-ab80cfa8f412"
      },
      "execution_count": null,
      "outputs": [
        {
          "output_type": "stream",
          "name": "stdout",
          "text": [
            "       InvoiceNo StockCode  ... CustomerID         Country\n",
            "0         536365    85123A  ...    17850.0  United Kingdom\n",
            "1         536365     71053  ...    17850.0  United Kingdom\n",
            "2         536365    84406B  ...    17850.0  United Kingdom\n",
            "3         536365    84029G  ...    17850.0  United Kingdom\n",
            "4         536365    84029E  ...    17850.0  United Kingdom\n",
            "...          ...       ...  ...        ...             ...\n",
            "541904    581587     22613  ...    12680.0          France\n",
            "541905    581587     22899  ...    12680.0          France\n",
            "541906    581587     23254  ...    12680.0          France\n",
            "541907    581587     23255  ...    12680.0          France\n",
            "541908    581587     22138  ...    12680.0          France\n",
            "\n",
            "[541909 rows x 8 columns]\n"
          ]
        }
      ]
    },
    {
      "cell_type": "code",
      "execution_count": null,
      "metadata": {
        "id": "YrATPA7Wt91k",
        "colab": {
          "base_uri": "https://localhost:8080/"
        },
        "outputId": "215ea298-f447-40d3-dda1-7d371373f006"
      },
      "outputs": [
        {
          "output_type": "stream",
          "name": "stdout",
          "text": [
            "       InvoiceNo StockCode  ... CustomerID         Country\n",
            "0         536365    85123A  ...    17850.0  United Kingdom\n",
            "1         536365     71053  ...    17850.0  United Kingdom\n",
            "2         536365    84406B  ...    17850.0  United Kingdom\n",
            "3         536365    84029G  ...    17850.0  United Kingdom\n",
            "4         536365    84029E  ...    17850.0  United Kingdom\n",
            "...          ...       ...  ...        ...             ...\n",
            "541904    581587     22613  ...    12680.0          France\n",
            "541905    581587     22899  ...    12680.0          France\n",
            "541906    581587     23254  ...    12680.0          France\n",
            "541907    581587     23255  ...    12680.0          France\n",
            "541908    581587     22138  ...    12680.0          France\n",
            "\n",
            "[406829 rows x 8 columns]\n",
            "       InvoiceNo StockCode  ... CustomerID         Country\n",
            "0         536365    85123A  ...    17850.0  United Kingdom\n",
            "1         536365     71053  ...    17850.0  United Kingdom\n",
            "2         536365    84406B  ...    17850.0  United Kingdom\n",
            "3         536365    84029G  ...    17850.0  United Kingdom\n",
            "4         536365    84029E  ...    17850.0  United Kingdom\n",
            "...          ...       ...  ...        ...             ...\n",
            "541904    581587     22613  ...    12680.0          France\n",
            "541905    581587     22899  ...    12680.0          France\n",
            "541906    581587     23254  ...    12680.0          France\n",
            "541907    581587     23255  ...    12680.0          France\n",
            "541908    581587     22138  ...    12680.0          France\n",
            "\n",
            "[397884 rows x 8 columns]\n",
            "       InvoiceNo StockCode  ... CustomerID         Country\n",
            "0         536365    85123A  ...    17850.0  United Kingdom\n",
            "1         536365     71053  ...    17850.0  United Kingdom\n",
            "2         536365    84406B  ...    17850.0  United Kingdom\n",
            "3         536365    84029G  ...    17850.0  United Kingdom\n",
            "4         536365    84029E  ...    17850.0  United Kingdom\n",
            "...          ...       ...  ...        ...             ...\n",
            "541904    581587     22613  ...    12680.0          France\n",
            "541905    581587     22899  ...    12680.0          France\n",
            "541906    581587     23254  ...    12680.0          France\n",
            "541907    581587     23255  ...    12680.0          France\n",
            "541908    581587     22138  ...    12680.0          France\n",
            "\n",
            "[397884 rows x 8 columns]\n"
          ]
        }
      ],
      "source": [
        "#drop null\n",
        "df = df.dropna()\n",
        "print(df)\n",
        "#Pas de valeurs négatives pour les quantités ou les prix\n",
        "df = df[(df['Quantity']>0) & (df['UnitPrice']>0) ]\n",
        "print(df)\n",
        "#Le numéro de la facture est un nombre\n",
        "\n",
        "df = df[df.InvoiceNo.str.isnumeric()]\n",
        "print(df)"
      ]
    },
    {
      "cell_type": "code",
      "source": [
        "df.InvoiceDate= pd.to_datetime(df.InvoiceDate)\n",
        "print(np.dtype(df.InvoiceDate))\n",
        "\n",
        "df['year_month'] = df['InvoiceDate'].dt.strftime('%Y-%m')\n",
        "print(df)"
      ],
      "metadata": {
        "colab": {
          "base_uri": "https://localhost:8080/"
        },
        "id": "b8CiGWm71SZn",
        "outputId": "ceeb9179-43bb-499d-8234-14cfeef2de66"
      },
      "execution_count": null,
      "outputs": [
        {
          "output_type": "stream",
          "name": "stdout",
          "text": [
            "datetime64[ns]\n",
            "       InvoiceNo StockCode  ...         Country  year_month\n",
            "0         536365    85123A  ...  United Kingdom     2010-12\n",
            "1         536365     71053  ...  United Kingdom     2010-12\n",
            "2         536365    84406B  ...  United Kingdom     2010-12\n",
            "3         536365    84029G  ...  United Kingdom     2010-12\n",
            "4         536365    84029E  ...  United Kingdom     2010-12\n",
            "...          ...       ...  ...             ...         ...\n",
            "541904    581587     22613  ...          France     2011-12\n",
            "541905    581587     22899  ...          France     2011-12\n",
            "541906    581587     23254  ...          France     2011-12\n",
            "541907    581587     23255  ...          France     2011-12\n",
            "541908    581587     22138  ...          France     2011-12\n",
            "\n",
            "[397884 rows x 9 columns]\n"
          ]
        }
      ]
    },
    {
      "cell_type": "code",
      "source": [
        "df.CustomerID =  df.CustomerID.astype(int)\n",
        "distinc_ID = df.CustomerID.nunique()\n",
        "print(distinc_ID)\n",
        "\n",
        "df[\"price_total\"] = df.UnitPrice * df.Quantity \n",
        "print(df)\n",
        "\n",
        "price_total = df.groupby([\"year_month\"]).price_total.sum().reset_index(name='price_total')\n",
        "nb_client =  df.groupby([\"year_month\"]).CustomerID.nunique().reset_index(name='nb_client')\n",
        "\n",
        "KPI = pd.merge(price_total,nb_client, how ='left', on = ['year_month'])\n",
        "KPI[\"KPIs\"] = KPI.price_total / KPI.nb_client\n",
        "\n",
        "print(KPI)"
      ],
      "metadata": {
        "colab": {
          "base_uri": "https://localhost:8080/"
        },
        "id": "f5JqLj0P4D2J",
        "outputId": "515a10b3-c3cb-4aeb-ae03-7d213fcdb7b2"
      },
      "execution_count": null,
      "outputs": [
        {
          "output_type": "stream",
          "name": "stdout",
          "text": [
            "4338\n",
            "       InvoiceNo StockCode  ... year_month  price_total\n",
            "0         536365    85123A  ...    2010-12        15.30\n",
            "1         536365     71053  ...    2010-12        20.34\n",
            "2         536365    84406B  ...    2010-12        22.00\n",
            "3         536365    84029G  ...    2010-12        20.34\n",
            "4         536365    84029E  ...    2010-12        20.34\n",
            "...          ...       ...  ...        ...          ...\n",
            "541904    581587     22613  ...    2011-12        10.20\n",
            "541905    581587     22899  ...    2011-12        12.60\n",
            "541906    581587     23254  ...    2011-12        16.60\n",
            "541907    581587     23255  ...    2011-12        16.60\n",
            "541908    581587     22138  ...    2011-12        14.85\n",
            "\n",
            "[397884 rows x 10 columns]\n",
            "   year_month  price_total  nb_client        KPIs\n",
            "0     2010-12   572713.890        885  647.134339\n",
            "1     2011-01   569445.040        741  768.481835\n",
            "2     2011-02   447137.350        758  589.890963\n",
            "3     2011-03   595500.760        974  611.397084\n",
            "4     2011-04   469200.361        856  548.131263\n",
            "5     2011-05   678594.560       1056  642.608485\n",
            "6     2011-06   661213.690        991  667.218658\n",
            "7     2011-07   600091.011        949  632.340370\n",
            "8     2011-08   645343.900        935  690.207380\n",
            "9     2011-09   952838.382       1266  752.636953\n",
            "10    2011-10  1039318.790       1364  761.963922\n",
            "11    2011-11  1161817.380       1664  698.207560\n",
            "12    2011-12   518192.790        615  842.589902\n"
          ]
        }
      ]
    },
    {
      "cell_type": "markdown",
      "source": [
        "\n",
        "\n",
        "---\n",
        "\n"
      ],
      "metadata": {
        "id": "kRDnWqjvEzCp"
      }
    },
    {
      "cell_type": "markdown",
      "source": [
        "Est-ce qu’il y a des mois ou les ventes sont plus élevés que d’autres mois Indépendamment du nombre de clients ?"
      ],
      "metadata": {
        "id": "Ul0SzXVACicS"
      }
    },
    {
      "cell_type": "code",
      "source": [
        "print(KPI.loc[KPI.price_total == KPI.price_total.max()])\n",
        "\n",
        "n_largest = KPI.nlargest(3, 'price_total')\n",
        "print(n_largest)"
      ],
      "metadata": {
        "colab": {
          "base_uri": "https://localhost:8080/"
        },
        "id": "X60xVETdCd8C",
        "outputId": "96492dd2-303a-42eb-8b2a-d37ef6f34358"
      },
      "execution_count": null,
      "outputs": [
        {
          "output_type": "stream",
          "name": "stdout",
          "text": [
            "   year_month  price_total  nb_client       KPIs\n",
            "11    2011-11   1161817.38       1664  698.20756\n",
            "   year_month  price_total  nb_client        KPIs\n",
            "11    2011-11  1161817.380       1664  698.207560\n",
            "10    2011-10  1039318.790       1364  761.963922\n",
            "9     2011-09   952838.382       1266  752.636953\n"
          ]
        }
      ]
    },
    {
      "cell_type": "markdown",
      "source": [
        "On peut voir aue il y a 3 mois 9,10 et 11 de l'année 2011 ou les ventes sont plus élevés que d’autres mois (les autres mois sont environ 500000 - 600000 alors que ces 3 mois sont plus de 900000)"
      ],
      "metadata": {
        "id": "isaEzmF3Dv8M"
      }
    },
    {
      "cell_type": "markdown",
      "source": [
        "\n",
        "\n",
        "---\n",
        "\n"
      ],
      "metadata": {
        "id": "ESfL4THEExLB"
      }
    },
    {
      "cell_type": "markdown",
      "source": [
        "Nous voulons exploiter les habitudes de dépenses pour ceux qui dépensent le plus (les 5 clients qui ont dépensé le plus tout au long de l’année):\n",
        "- Combien de commandes en moyenne (vous devez penser aux nombres de factures par\n",
        "client) ont ces clients ?\n",
        "- Est-ce qu’ils dépensent approximativement la même somme pour toutes leurs\n",
        "commandes ?\n"
      ],
      "metadata": {
        "id": "CMbTJ8XSEopp"
      }
    },
    {
      "cell_type": "code",
      "source": [
        "nb_facture_df = df.groupby([\"CustomerID\"]).InvoiceNo.nunique().reset_index(name='nb_facture')\n",
        "nb_facture_df=nb_facture_df.sort_values(by = ['nb_facture'], ascending=True)\n",
        "print(nb_facture_df)\n",
        "\n",
        "#Combien de commandes en moyenne ?\n",
        "print(\"moyenne de commande : \" , nb_facture_df.nb_facture.mean())"
      ],
      "metadata": {
        "colab": {
          "base_uri": "https://localhost:8080/"
        },
        "id": "01zPqCIRD98o",
        "outputId": "dfb19399-0934-4fdb-c8f0-a7654ed285b8"
      },
      "execution_count": null,
      "outputs": [
        {
          "output_type": "stream",
          "name": "stdout",
          "text": [
            "      CustomerID  nb_facture\n",
            "0          12346           1\n",
            "1519       14420           1\n",
            "3278       16812           1\n",
            "3284       16820           1\n",
            "3285       16823           1\n",
            "...          ...         ...\n",
            "1661       14606          93\n",
            "562        13089          97\n",
            "4010       17841         124\n",
            "1879       14911         201\n",
            "326        12748         209\n",
            "\n",
            "[4338 rows x 2 columns]\n",
            "moyenne de commande :  4.272014753342554\n"
          ]
        }
      ]
    },
    {
      "cell_type": "markdown",
      "source": [
        "Il y a 4 facture en moyenne."
      ],
      "metadata": {
        "id": "8-4GpHjTHxc6"
      }
    },
    {
      "cell_type": "code",
      "source": [
        "somme_depense_df =  df.groupby([\"CustomerID\", \"InvoiceNo\"]).price_total.sum().reset_index(name='somme')\n",
        "print(somme_depense_df)\n",
        "print(\"_____________________________________\")\n",
        "\n",
        "approximation = somme_depense_df.groupby([\"CustomerID\"]).somme.std().reset_index(name='stand_dev')\n",
        "approximation = approximation.dropna() # drop les Nan values\n",
        "approximation = approximation.sort_values(by = ['stand_dev'], ascending=True) # sort values ascending\n",
        "\n",
        "print(approximation)\n",
        "print(approximation.loc[approximation.stand_dev == 0])\n",
        "print(\"_____________________________________\")\n",
        "\n",
        "for i in approximation.loc[approximation.stand_dev == 0, \"CustomerID\"]:\n",
        "  print(somme_depense_df.loc[somme_depense_df.CustomerID == i])"
      ],
      "metadata": {
        "colab": {
          "base_uri": "https://localhost:8080/"
        },
        "id": "PFENc8W7IYEf",
        "outputId": "cb6a0fb2-37d5-4349-cfe4-72db16b64ee2"
      },
      "execution_count": null,
      "outputs": [
        {
          "output_type": "stream",
          "name": "stdout",
          "text": [
            "       CustomerID InvoiceNo     somme\n",
            "0           12346    541431  77183.60\n",
            "1           12347    537626    711.79\n",
            "2           12347    542237    475.39\n",
            "3           12347    549222    636.25\n",
            "4           12347    556201    382.52\n",
            "...           ...       ...       ...\n",
            "18527       18283    579673    223.61\n",
            "18528       18283    580872    208.00\n",
            "18529       18287    554065    765.28\n",
            "18530       18287    570715   1001.32\n",
            "18531       18287    573167     70.68\n",
            "\n",
            "[18532 rows x 3 columns]\n",
            "_____________________________________\n",
            "      CustomerID      stand_dev\n",
            "1929       14987       0.000000\n",
            "3540       17186       0.000000\n",
            "3430       17029       0.000000\n",
            "3653       17353       0.000000\n",
            "3241       16766       0.000000\n",
            "...          ...            ...\n",
            "196        12590    6235.451444\n",
            "2502       15749    6854.669639\n",
            "55         12415    7774.349436\n",
            "2011       15098   22226.807784\n",
            "3008       16446  119123.945974\n",
            "\n",
            "[2845 rows x 2 columns]\n",
            "      CustomerID  stand_dev\n",
            "1929       14987        0.0\n",
            "3540       17186        0.0\n",
            "3430       17029        0.0\n",
            "3653       17353        0.0\n",
            "3241       16766        0.0\n",
            "1621       14548        0.0\n",
            "824        13452        0.0\n",
            "18         12365        0.0\n",
            "_____________________________________\n",
            "      CustomerID InvoiceNo  somme\n",
            "8607       14987    538006  163.2\n",
            "8608       14987    578351  163.2\n",
            "       CustomerID InvoiceNo  somme\n",
            "15019       17186    570407   72.0\n",
            "15020       17186    572332   72.0\n",
            "       CustomerID InvoiceNo  somme\n",
            "14636       17029    550308  358.0\n",
            "14637       17029    563902  358.0\n",
            "       CustomerID InvoiceNo  somme\n",
            "15477       17353    559519  870.0\n",
            "15478       17353    562123  870.0\n",
            "       CustomerID InvoiceNo  somme\n",
            "13838       16766    546387  572.8\n",
            "13839       16766    546403  572.8\n",
            "      CustomerID InvoiceNo  somme\n",
            "7069       14548    542141  326.4\n",
            "7070       14548    559790  326.4\n",
            "      CustomerID InvoiceNo  somme\n",
            "3683       13452    546480  295.0\n",
            "3684       13452    547814  295.0\n",
            "    CustomerID InvoiceNo   somme\n",
            "55       12365    544574  320.69\n",
            "56       12365    544578  320.69\n"
          ]
        }
      ]
    },
    {
      "cell_type": "markdown",
      "source": [
        "\n",
        "\n",
        "---\n",
        "\n"
      ],
      "metadata": {
        "id": "epwW6VgxTF1c"
      }
    },
    {
      "cell_type": "markdown",
      "source": [
        "Exercice 3 : L’utilisation d’algorithme de fouilles de données pour établir de nouvelles corrélations et analyses"
      ],
      "metadata": {
        "id": "l8taQqNfS395"
      }
    },
    {
      "cell_type": "markdown",
      "source": [
        "a, Expliquer en quelques étapes c’est quoi les règles d’associations et pourquoi il est intéressant\n",
        "pour nos données d’utiliser cet algorithme ?\n",
        "\n",
        "-Règles d'assciation: est utilisé pour trouvé relations entre les attributs dans de grandes bases de données. Par exemple, avec une règle d'association comme suivant:\n",
        "    \n",
        "    Bread=> butter [support=2%, confidence-60%]\n",
        "Cela signifie qu'il y a une transaction de 2% qui a acheté du pain et du beurre ensemble et que 60% des clients ont acheté du pain ainsi que du beurre.\n",
        "\n",
        "Avec:\n",
        "\n",
        "![Capture d’écran 2022-03-02 154821.png](data:image/png;base64,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)\n",
        "\n",
        "L'algorithme Apriori utilise deux étapes «joindre» et «élaguer» pour réduire l'espace de recherche. Donc il convient donc de réduire la vitesse d'analyse des grandes bases de données comme celles que nous utilisons. Ensuit, on peut trouver les règles association, donc on peut prédire les tendances d'achat de nos clients afin de pouvoir distribuer plus raisonnablement différents types d'articles.\n"
      ],
      "metadata": {
        "id": "ZYIWp3TpS5dA"
      }
    },
    {
      "cell_type": "markdown",
      "source": [
        "**Etape 2 : Implémentation de l’analyse des données**\n",
        "\n",
        "---\n",
        "\n"
      ],
      "metadata": {
        "id": "Br2d0AsCOVCW"
      }
    },
    {
      "cell_type": "code",
      "source": [
        "!pip install apyori\n",
        "from apyori import apriori\n",
        "from mlxtend.frequent_patterns import  association_rules"
      ],
      "metadata": {
        "colab": {
          "base_uri": "https://localhost:8080/"
        },
        "id": "0zfjNr5eO6vM",
        "outputId": "5017a6d8-99d7-4125-df87-5f0c658ae549"
      },
      "execution_count": null,
      "outputs": [
        {
          "output_type": "stream",
          "name": "stdout",
          "text": [
            "Requirement already satisfied: apyori in /usr/local/lib/python3.7/dist-packages (1.1.2)\n"
          ]
        }
      ]
    },
    {
      "cell_type": "code",
      "source": [
        "# Importing the libraries\n",
        "import numpy as np\n",
        "import matplotlib.pyplot as plt\n",
        "import pandas as pd\n",
        "# Importing the dataset\n",
        "df = pd.read_csv('/content/data.csv')"
      ],
      "metadata": {
        "id": "lA5I9--gOmyc"
      },
      "execution_count": null,
      "outputs": []
    },
    {
      "cell_type": "code",
      "source": [
        "#drop null\n",
        "df = df.dropna()\n",
        "print(df)\n",
        "#Pas de valeurs négatives pour les quantités ou les prix\n",
        "df = df[(df['Quantity']>0) & (df['UnitPrice']>0) ]\n",
        "print(df)\n",
        "#Le numéro de la facture est un nombre\n",
        "\n",
        "df = df[df.InvoiceNo.str.isnumeric()]\n",
        "print(df)"
      ],
      "metadata": {
        "colab": {
          "base_uri": "https://localhost:8080/"
        },
        "id": "BmMlfSiMZs5S",
        "outputId": "36e92c65-b4ec-4a3e-9de7-a0cfc53a77c7"
      },
      "execution_count": null,
      "outputs": [
        {
          "output_type": "stream",
          "name": "stdout",
          "text": [
            "       InvoiceNo StockCode  ... CustomerID         Country\n",
            "0         536365    85123A  ...    17850.0  United Kingdom\n",
            "1         536365     71053  ...    17850.0  United Kingdom\n",
            "2         536365    84406B  ...    17850.0  United Kingdom\n",
            "3         536365    84029G  ...    17850.0  United Kingdom\n",
            "4         536365    84029E  ...    17850.0  United Kingdom\n",
            "...          ...       ...  ...        ...             ...\n",
            "541904    581587     22613  ...    12680.0          France\n",
            "541905    581587     22899  ...    12680.0          France\n",
            "541906    581587     23254  ...    12680.0          France\n",
            "541907    581587     23255  ...    12680.0          France\n",
            "541908    581587     22138  ...    12680.0          France\n",
            "\n",
            "[406829 rows x 8 columns]\n",
            "       InvoiceNo StockCode  ... CustomerID         Country\n",
            "0         536365    85123A  ...    17850.0  United Kingdom\n",
            "1         536365     71053  ...    17850.0  United Kingdom\n",
            "2         536365    84406B  ...    17850.0  United Kingdom\n",
            "3         536365    84029G  ...    17850.0  United Kingdom\n",
            "4         536365    84029E  ...    17850.0  United Kingdom\n",
            "...          ...       ...  ...        ...             ...\n",
            "541904    581587     22613  ...    12680.0          France\n",
            "541905    581587     22899  ...    12680.0          France\n",
            "541906    581587     23254  ...    12680.0          France\n",
            "541907    581587     23255  ...    12680.0          France\n",
            "541908    581587     22138  ...    12680.0          France\n",
            "\n",
            "[397884 rows x 8 columns]\n",
            "       InvoiceNo StockCode  ... CustomerID         Country\n",
            "0         536365    85123A  ...    17850.0  United Kingdom\n",
            "1         536365     71053  ...    17850.0  United Kingdom\n",
            "2         536365    84406B  ...    17850.0  United Kingdom\n",
            "3         536365    84029G  ...    17850.0  United Kingdom\n",
            "4         536365    84029E  ...    17850.0  United Kingdom\n",
            "...          ...       ...  ...        ...             ...\n",
            "541904    581587     22613  ...    12680.0          France\n",
            "541905    581587     22899  ...    12680.0          France\n",
            "541906    581587     23254  ...    12680.0          France\n",
            "541907    581587     23255  ...    12680.0          France\n",
            "541908    581587     22138  ...    12680.0          France\n",
            "\n",
            "[397884 rows x 8 columns]\n"
          ]
        }
      ]
    },
    {
      "cell_type": "code",
      "source": [
        "list_item_df = df.groupby(['InvoiceNo'])[\"StockCode\"].unique().reset_index(name='list_item')\n",
        "list_item_df = list_item_df.list_item\n",
        "print(list_item_df)\n",
        "\n",
        "freq_items = apriori(list_item_df, min_support=0.01, min_confidence = 0.03)\n",
        "\n",
        "freq_items = pd.DataFrame(freq_items)\n",
        "print(freq_items)\n",
        "print(\"-------------------------------------------------\")\n",
        "print(freq_items.ordered_statistics[0])\n",
        "print(freq_items.ordered_statistics[500])\n",
        "\n",
        "freq_items.to_csv(r'/content/apriori.csv', index=False)\n",
        "\n",
        "KPI.to_csv(r'/content/KPI.csv', index = False)\n",
        "df.to_csv(r'/content/data_new.csv', index = False)\n"
      ],
      "metadata": {
        "id": "wziOlIWvRHds",
        "colab": {
          "base_uri": "https://localhost:8080/"
        },
        "outputId": "ffdb1ae0-a083-4102-afac-216ab2d67402"
      },
      "execution_count": null,
      "outputs": [
        {
          "output_type": "stream",
          "name": "stdout",
          "text": [
            "0        [85123A, 71053, 84406B, 84029G, 84029E, 22752,...\n",
            "1                                           [22633, 22632]\n",
            "2        [84879, 22745, 22748, 22749, 22310, 84969, 226...\n",
            "3                             [22960, 22913, 22912, 22914]\n",
            "4                                                  [21756]\n",
            "                               ...                        \n",
            "18527                                       [20725, 85038]\n",
            "18528                                       [20832, 85038]\n",
            "18529    [22481, 22915, 22178, 22460, 84832, 23084, 848...\n",
            "18530                         [22061, 23275, 21217, 20685]\n",
            "18531    [22631, 22556, 22555, 22728, 22727, 22726, 227...\n",
            "Name: list_item, Length: 18532, dtype: object\n",
            "                            items  ...                                 ordered_statistics\n",
            "0                         (20685)  ...          [((), (20685), 0.03108137276063026, 1.0)]\n",
            "1                         (20724)  ...         [((), (20724), 0.039876969566155836, 1.0)]\n",
            "2                         (20725)  ...          [((), (20725), 0.06955536369522987, 1.0)]\n",
            "3                         (20726)  ...          [((), (20726), 0.04424778761061947, 1.0)]\n",
            "4                         (20727)  ...          [((), (20727), 0.05676667386142888, 1.0)]\n",
            "..                            ...  ...                                                ...\n",
            "496         (23202, 23203, 23209)  ...  [((23202), (23203, 23209), 0.266839378238342, ...\n",
            "497        (23202, 23203, 85099B)  ...  [((23202), (23203, 85099B), 0.2927461139896373...\n",
            "498        (85099B, 23203, 23209)  ...  [((23203), (85099B, 23209), 0.1870370370370370...\n",
            "499  (20725, 20727, 20728, 22384)  ...  [((20725), (20728, 20727, 22384), 0.1497284716...\n",
            "500  (22699, 22697, 22423, 22698)  ...  [((22423), (22699, 22697, 22698), 0.1403405754...\n",
            "\n",
            "[501 rows x 3 columns]\n",
            "-------------------------------------------------\n",
            "[OrderedStatistic(items_base=frozenset(), items_add=frozenset({'20685'}), confidence=0.03108137276063026, lift=1.0)]\n",
            "[OrderedStatistic(items_base=frozenset({'22423'}), items_add=frozenset({'22699', '22697', '22698'}), confidence=0.14034057545507928, lift=6.668696267521869), OrderedStatistic(items_base=frozenset({'22697'}), items_add=frozenset({'22699', '22423', '22698'}), confidence=0.3458755426917511, lift=24.18779455533408), OrderedStatistic(items_base=frozenset({'22698'}), items_add=frozenset({'22699', '22423', '22697'}), confidence=0.4298561151079137, lift=25.53235104224313), OrderedStatistic(items_base=frozenset({'22699'}), items_add=frozenset({'22423', '22697', '22698'}), confidence=0.3052362707535121, lift=20.873205053889617), OrderedStatistic(items_base=frozenset({'22697', '22423'}), items_add=frozenset({'22699', '22698'}), confidence=0.6390374331550802, lift=27.16202227346318), OrderedStatistic(items_base=frozenset({'22423', '22698'}), items_add=frozenset({'22699', '22697'}), confidence=0.773462783171521, lift=26.495031973631473), OrderedStatistic(items_base=frozenset({'22699', '22423'}), items_add=frozenset({'22697', '22698'}), confidence=0.569047619047619, lift=22.9251966873706), OrderedStatistic(items_base=frozenset({'22697', '22698'}), items_add=frozenset({'22699', '22423'}), confidence=0.5195652173913043, lift=22.925196687370597), OrderedStatistic(items_base=frozenset({'22699', '22697'}), items_add=frozenset({'22423', '22698'}), confidence=0.4417744916820703, lift=26.495031973631473), OrderedStatistic(items_base=frozenset({'22699', '22698'}), items_add=frozenset({'22423', '22697'}), confidence=0.5481651376146789, lift=27.16202227346318), OrderedStatistic(items_base=frozenset({'22697', '22423', '22698'}), items_add=frozenset({'22699'}), confidence=0.8819188191881919, lift=20.87320505388962), OrderedStatistic(items_base=frozenset({'22699', '22697', '22423'}), items_add=frozenset({'22698'}), confidence=0.766025641025641, lift=25.53235104224313), OrderedStatistic(items_base=frozenset({'22699', '22423', '22698'}), items_add=frozenset({'22697'}), confidence=0.9018867924528302, lift=24.18779455533408), OrderedStatistic(items_base=frozenset({'22699', '22697', '22698'}), items_add=frozenset({'22423'}), confidence=0.6128205128205129, lift=6.66869626752187)]\n"
          ]
        }
      ]
    }
  ]
}